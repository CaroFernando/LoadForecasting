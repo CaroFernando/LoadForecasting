{
 "cells": [
  {
   "cell_type": "code",
   "execution_count": null,
   "metadata": {},
   "outputs": [],
   "source": [
    "import numpy as np\n",
    "import pandas as pd\n",
    "import plotly.graph_objects as go\n",
    "import plotly.express as px"
   ]
  },
  {
   "cell_type": "code",
   "execution_count": null,
   "metadata": {},
   "outputs": [],
   "source": [
    "predsdf = pd.read_csv('preds_1440.csv')\n",
    "predsdf['time'] = pd.to_datetime(predsdf['time'])\n",
    "\n",
    "model_names = ['wavenet', 'wavenett2v', 'lstm', 'lstmt2v']\n",
    "\n",
    "fig = go.Figure()\n",
    "fig.add_trace(go.Scatter(x=predsdf['time'], y=predsdf['value'], name='actual'))\n",
    "for model_name in model_names:\n",
    "    fig.add_trace(go.Scatter(x=predsdf['time'], y=predsdf[model_name], mode='lines', name=model_name))\n",
    "fig.show()\n",
    "predsdf"
   ]
  },
  {
   "cell_type": "code",
   "execution_count": null,
   "metadata": {},
   "outputs": [],
   "source": [
    "from sklearn.metrics import r2_score, mean_absolute_error, mean_squared_error, mean_squared_log_error\n",
    "\n",
    "# group by month and calculate metrics\n",
    "predsdf['month'] = predsdf['time'].dt.month\n",
    "predsdf['year'] = predsdf['time'].dt.year\n",
    "\n",
    "r2df = pd.DataFrame()\n",
    "r2df[['year', 'month']] = predsdf.groupby(['year', 'month']).first().reset_index()[['year', 'month']]\n",
    "maedf = pd.DataFrame()\n",
    "maedf[['year', 'month']] = predsdf.groupby(['year', 'month']).first().reset_index()[['year', 'month']]\n",
    "msedf = pd.DataFrame()\n",
    "msedf[['year', 'month']] = predsdf.groupby(['year', 'month']).first().reset_index()[['year', 'month']]\n",
    "msledf = pd.DataFrame()\n",
    "msledf[['year', 'month']] = predsdf.groupby(['year', 'month']).first().reset_index()[['year', 'month']]\n",
    "\n",
    "for name in model_names:\n",
    "    preds_metrics = pd.DataFrame()\n",
    "    preds_metrics[name+'r2'] = predsdf.groupby(['year', 'month']).apply(lambda x: r2_score(x['value'], x[name])).reset_index().rename(columns={0:'r2'})['r2']\n",
    "    preds_metrics[name+'mae'] = predsdf.groupby(['year', 'month']).apply(lambda x: mean_absolute_error(x['value'], x[name])).reset_index().rename(columns={0:'mae'})['mae']\n",
    "    preds_metrics[name+'mse'] = predsdf.groupby(['year', 'month']).apply(lambda x: mean_squared_error(x['value'], x[name])).reset_index().rename(columns={0:'mse'})['mse']\n",
    "    preds_metrics[name+'msle'] = predsdf.groupby(['year', 'month']).apply(lambda x: mean_squared_log_error(x['value'], x[name])).reset_index().rename(columns={0:'msle'})['msle']\n",
    "\n",
    "    r2df[name] = preds_metrics[name+'r2']\n",
    "    maedf[name] = preds_metrics[name+'mae']\n",
    "    msedf[name] = preds_metrics[name+'mse']\n",
    "    msledf[name] = preds_metrics[name+'msle']\n",
    "\n",
    "r2df"
   ]
  },
  {
   "cell_type": "code",
   "execution_count": null,
   "metadata": {},
   "outputs": [],
   "source": [
    "maedf"
   ]
  },
  {
   "cell_type": "code",
   "execution_count": null,
   "metadata": {},
   "outputs": [],
   "source": [
    "msedf"
   ]
  },
  {
   "cell_type": "code",
   "execution_count": null,
   "metadata": {},
   "outputs": [],
   "source": [
    "msledf"
   ]
  },
  {
   "cell_type": "code",
   "execution_count": null,
   "metadata": {},
   "outputs": [],
   "source": [
    "# average metrics\n",
    "\n",
    "r2df.mean()"
   ]
  },
  {
   "cell_type": "code",
   "execution_count": null,
   "metadata": {},
   "outputs": [],
   "source": [
    "maedf.mean()"
   ]
  },
  {
   "cell_type": "code",
   "execution_count": null,
   "metadata": {},
   "outputs": [],
   "source": [
    "msedf.mean()"
   ]
  },
  {
   "cell_type": "code",
   "execution_count": null,
   "metadata": {},
   "outputs": [],
   "source": [
    "msledf.mean()"
   ]
  },
  {
   "cell_type": "code",
   "execution_count": null,
   "metadata": {},
   "outputs": [],
   "source": []
  }
 ],
 "metadata": {
  "kernelspec": {
   "display_name": "Python 3.9.0 64-bit",
   "language": "python",
   "name": "python3"
  },
  "language_info": {
   "codemirror_mode": {
    "name": "ipython",
    "version": 3
   },
   "file_extension": ".py",
   "mimetype": "text/x-python",
   "name": "python",
   "nbconvert_exporter": "python",
   "pygments_lexer": "ipython3",
   "version": "3.9.0"
  },
  "orig_nbformat": 4,
  "vscode": {
   "interpreter": {
    "hash": "52634da84371cba311ea128a5ea7cdc41ff074b781779e754b270ff9f8153cee"
   }
  }
 },
 "nbformat": 4,
 "nbformat_minor": 2
}
